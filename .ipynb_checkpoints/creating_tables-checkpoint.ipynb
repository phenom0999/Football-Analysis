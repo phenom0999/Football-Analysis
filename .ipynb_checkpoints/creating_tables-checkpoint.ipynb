{
 "cells": [
  {
   "cell_type": "code",
   "execution_count": null,
   "id": "363a5e5a-5da8-4eba-88cd-443f91a8613f",
   "metadata": {},
   "outputs": [],
   "source": [
    "# Creating DataFrames"
   ]
  },
  {
   "cell_type": "code",
   "execution_count": 1,
   "id": "a14fe33f-8fad-46a5-bb3d-8934fb014462",
   "metadata": {},
   "outputs": [
    {
     "ename": "FileNotFoundError",
     "evalue": "[Errno 2] No such file or directory: 'data/matches/matches_England.json'",
     "output_type": "error",
     "traceback": [
      "\u001b[0;31m---------------------------------------------------------------------------\u001b[0m",
      "\u001b[0;31mFileNotFoundError\u001b[0m                         Traceback (most recent call last)",
      "Cell \u001b[0;32mIn[1], line 8\u001b[0m\n\u001b[1;32m      3\u001b[0m \u001b[38;5;28;01mfrom\u001b[39;00m\u001b[38;5;250m \u001b[39m\u001b[38;5;21;01mtqdm\u001b[39;00m\u001b[38;5;21;01m.\u001b[39;00m\u001b[38;5;21;01mnotebook\u001b[39;00m\u001b[38;5;250m \u001b[39m\u001b[38;5;28;01mimport\u001b[39;00m tqdm\n\u001b[1;32m      6\u001b[0m \u001b[38;5;66;03m# Reading datasets\u001b[39;00m\n\u001b[0;32m----> 8\u001b[0m \u001b[38;5;28;01mwith\u001b[39;00m \u001b[38;5;28mopen\u001b[39m(\u001b[38;5;124m'\u001b[39m\u001b[38;5;124mdata/matches/matches_England.json\u001b[39m\u001b[38;5;124m'\u001b[39m) \u001b[38;5;28;01mas\u001b[39;00m f:\n\u001b[1;32m      9\u001b[0m     matches_England \u001b[38;5;241m=\u001b[39m json\u001b[38;5;241m.\u001b[39mload(f)\n\u001b[1;32m     11\u001b[0m \u001b[38;5;28;01mwith\u001b[39;00m \u001b[38;5;28mopen\u001b[39m(\u001b[38;5;124m'\u001b[39m\u001b[38;5;124mdata/players.json\u001b[39m\u001b[38;5;124m'\u001b[39m) \u001b[38;5;28;01mas\u001b[39;00m f:\n",
      "File \u001b[0;32m/opt/anaconda3/lib/python3.13/site-packages/IPython/core/interactiveshell.py:324\u001b[0m, in \u001b[0;36m_modified_open\u001b[0;34m(file, *args, **kwargs)\u001b[0m\n\u001b[1;32m    317\u001b[0m \u001b[38;5;28;01mif\u001b[39;00m file \u001b[38;5;129;01min\u001b[39;00m {\u001b[38;5;241m0\u001b[39m, \u001b[38;5;241m1\u001b[39m, \u001b[38;5;241m2\u001b[39m}:\n\u001b[1;32m    318\u001b[0m     \u001b[38;5;28;01mraise\u001b[39;00m \u001b[38;5;167;01mValueError\u001b[39;00m(\n\u001b[1;32m    319\u001b[0m         \u001b[38;5;124mf\u001b[39m\u001b[38;5;124m\"\u001b[39m\u001b[38;5;124mIPython won\u001b[39m\u001b[38;5;124m'\u001b[39m\u001b[38;5;124mt let you open fd=\u001b[39m\u001b[38;5;132;01m{\u001b[39;00mfile\u001b[38;5;132;01m}\u001b[39;00m\u001b[38;5;124m by default \u001b[39m\u001b[38;5;124m\"\u001b[39m\n\u001b[1;32m    320\u001b[0m         \u001b[38;5;124m\"\u001b[39m\u001b[38;5;124mas it is likely to crash IPython. If you know what you are doing, \u001b[39m\u001b[38;5;124m\"\u001b[39m\n\u001b[1;32m    321\u001b[0m         \u001b[38;5;124m\"\u001b[39m\u001b[38;5;124myou can use builtins\u001b[39m\u001b[38;5;124m'\u001b[39m\u001b[38;5;124m open.\u001b[39m\u001b[38;5;124m\"\u001b[39m\n\u001b[1;32m    322\u001b[0m     )\n\u001b[0;32m--> 324\u001b[0m \u001b[38;5;28;01mreturn\u001b[39;00m io_open(file, \u001b[38;5;241m*\u001b[39margs, \u001b[38;5;241m*\u001b[39m\u001b[38;5;241m*\u001b[39mkwargs)\n",
      "\u001b[0;31mFileNotFoundError\u001b[0m: [Errno 2] No such file or directory: 'data/matches/matches_England.json'"
     ]
    }
   ],
   "source": [
    "import json\n",
    "import pandas as pd\n",
    "from tqdm.notebook import tqdm\n",
    "\n",
    "\n",
    "# Reading datasets\n",
    "\n",
    "with open('../data/matches/matches_England.json') as f:\n",
    "    matches_England = json.load(f)\n",
    "\n",
    "with open('../data/players.json') as f:\n",
    "    players = json.load(f)\n",
    "\n",
    "with open('../data/teams.json') as f:\n",
    "    teams = json.load(f)\n",
    "\n",
    "with open('../data/events/events_England.json') as f:\n",
    "    events_England = json.load(f)\n"
   ]
  },
  {
   "cell_type": "markdown",
   "id": "088c7495-dd16-4317-b153-d43113db3bf4",
   "metadata": {},
   "source": [
    "## Matches DF"
   ]
  },
  {
   "cell_type": "code",
   "execution_count": 15,
   "id": "bdec6f7c-c099-4464-ae2f-d0496aa73ebc",
   "metadata": {},
   "outputs": [],
   "source": [
    "def find_side_and_score(match):\n",
    "    # find the teams\n",
    "    team0 = list(match[\"teamsData\"].keys())[0]\n",
    "    team1 = list(match[\"teamsData\"].keys())[1]\n",
    "    # check to see if team0 is home or away, add accordingly\n",
    "    if match[\"teamsData\"][team0][\"side\"] == \"home\":\n",
    "        score0 = match[\"teamsData\"][team0][\"score\"]\n",
    "        score1 = match[\"teamsData\"][team1][\"score\"]\n",
    "        return (team0, team1, score0, score1)\n",
    "    else:\n",
    "        score0 = match[\"teamsData\"][team0][\"score\"]\n",
    "        score1 = match[\"teamsData\"][team1][\"score\"]        \n",
    "        return (team1, team0, score1, score0)\n"
   ]
  },
  {
   "cell_type": "code",
   "execution_count": 16,
   "id": "3474deb7-4b8a-488f-a9bc-15cdf472fd74",
   "metadata": {},
   "outputs": [
    {
     "data": {
      "text/plain": [
       "('1646', '1659', 1, 2)"
      ]
     },
     "execution_count": 16,
     "metadata": {},
     "output_type": "execute_result"
    }
   ],
   "source": [
    "find_side_and_score(matches_England[0])"
   ]
  },
  {
   "cell_type": "code",
   "execution_count": 18,
   "id": "3629cbec-ff15-49e6-8bf2-1efda3acc266",
   "metadata": {},
   "outputs": [],
   "source": [
    "matches = []\n",
    "for match in matches_England:\n",
    "    home_team, away_team, home_score, away_score = find_side_and_score(match)\n",
    "\n",
    "    matches.append({\n",
    "        'match_id': match['wyId'],\n",
    "        'date': match['dateutc'],\n",
    "        'home_team': int(home_team),\n",
    "        'away_team': int(away_team),\n",
    "        'home_score': int(home_score),\n",
    "        'away_score': int(away_score),\n",
    "        'label': match['label'],\n",
    "        'venue': match['venue'],\n",
    "        'gameweek': match['gameweek'],\n",
    "        'winner_team_id': int(match['winner'])\n",
    "    })\n",
    "matches_df = pd.DataFrame(matches)\n",
    "\n",
    "matches_df.to_csv('dataframe/matches.csv', index=False)\n"
   ]
  },
  {
   "cell_type": "markdown",
   "id": "47dfe419-6d92-4492-a13a-65a301ee7c39",
   "metadata": {},
   "source": [
    "## Players DF"
   ]
  },
  {
   "cell_type": "code",
   "execution_count": 6,
   "id": "1a6ecb5e-135f-473e-8041-b61a929d2266",
   "metadata": {},
   "outputs": [],
   "source": [
    "players_df = pd.DataFrame(players)\n",
    "players_df = players_df.drop([\"passportArea\", \"role\", \"birthArea\"], axis=1)\n",
    "players_df.head()\n",
    "\n",
    "players_df.to_csv('dataframes/players.csv', index=False)"
   ]
  },
  {
   "cell_type": "code",
   "execution_count": 7,
   "id": "1fc5cae9-1849-4219-abf4-a57696fdf1d3",
   "metadata": {},
   "outputs": [
    {
     "data": {
      "text/html": [
       "<div>\n",
       "<style scoped>\n",
       "    .dataframe tbody tr th:only-of-type {\n",
       "        vertical-align: middle;\n",
       "    }\n",
       "\n",
       "    .dataframe tbody tr th {\n",
       "        vertical-align: top;\n",
       "    }\n",
       "\n",
       "    .dataframe thead th {\n",
       "        text-align: right;\n",
       "    }\n",
       "</style>\n",
       "<table border=\"1\" class=\"dataframe\">\n",
       "  <thead>\n",
       "    <tr style=\"text-align: right;\">\n",
       "      <th></th>\n",
       "      <th>weight</th>\n",
       "      <th>firstName</th>\n",
       "      <th>middleName</th>\n",
       "      <th>lastName</th>\n",
       "      <th>currentTeamId</th>\n",
       "      <th>birthDate</th>\n",
       "      <th>height</th>\n",
       "      <th>wyId</th>\n",
       "      <th>foot</th>\n",
       "      <th>shortName</th>\n",
       "      <th>currentNationalTeamId</th>\n",
       "    </tr>\n",
       "  </thead>\n",
       "  <tbody>\n",
       "    <tr>\n",
       "      <th>0</th>\n",
       "      <td>78</td>\n",
       "      <td>Harun</td>\n",
       "      <td></td>\n",
       "      <td>Tekin</td>\n",
       "      <td>4502</td>\n",
       "      <td>1989-06-17</td>\n",
       "      <td>187</td>\n",
       "      <td>32777</td>\n",
       "      <td>right</td>\n",
       "      <td>H. Tekin</td>\n",
       "      <td>4687</td>\n",
       "    </tr>\n",
       "    <tr>\n",
       "      <th>1</th>\n",
       "      <td>73</td>\n",
       "      <td>Malang</td>\n",
       "      <td></td>\n",
       "      <td>Sarr</td>\n",
       "      <td>3775</td>\n",
       "      <td>1999-01-23</td>\n",
       "      <td>182</td>\n",
       "      <td>393228</td>\n",
       "      <td>left</td>\n",
       "      <td>M. Sarr</td>\n",
       "      <td>4423</td>\n",
       "    </tr>\n",
       "    <tr>\n",
       "      <th>2</th>\n",
       "      <td>72</td>\n",
       "      <td>Over</td>\n",
       "      <td></td>\n",
       "      <td>Mandanda</td>\n",
       "      <td>3772</td>\n",
       "      <td>1998-10-26</td>\n",
       "      <td>176</td>\n",
       "      <td>393230</td>\n",
       "      <td></td>\n",
       "      <td>O. Mandanda</td>\n",
       "      <td>null</td>\n",
       "    </tr>\n",
       "    <tr>\n",
       "      <th>3</th>\n",
       "      <td>82</td>\n",
       "      <td>Alfred John Momar</td>\n",
       "      <td></td>\n",
       "      <td>N'Diaye</td>\n",
       "      <td>683</td>\n",
       "      <td>1990-03-06</td>\n",
       "      <td>187</td>\n",
       "      <td>32793</td>\n",
       "      <td>right</td>\n",
       "      <td>A. N'Diaye</td>\n",
       "      <td>19314</td>\n",
       "    </tr>\n",
       "    <tr>\n",
       "      <th>4</th>\n",
       "      <td>84</td>\n",
       "      <td>Ibrahima</td>\n",
       "      <td></td>\n",
       "      <td>Konat\\u00e9</td>\n",
       "      <td>2975</td>\n",
       "      <td>1999-05-25</td>\n",
       "      <td>192</td>\n",
       "      <td>393247</td>\n",
       "      <td>right</td>\n",
       "      <td>I. Konat\\u00e9</td>\n",
       "      <td>null</td>\n",
       "    </tr>\n",
       "  </tbody>\n",
       "</table>\n",
       "</div>"
      ],
      "text/plain": [
       "   weight          firstName middleName     lastName currentTeamId  \\\n",
       "0      78              Harun                   Tekin          4502   \n",
       "1      73             Malang                    Sarr          3775   \n",
       "2      72               Over                Mandanda          3772   \n",
       "3      82  Alfred John Momar                 N'Diaye           683   \n",
       "4      84           Ibrahima             Konat\\u00e9          2975   \n",
       "\n",
       "    birthDate  height    wyId   foot       shortName currentNationalTeamId  \n",
       "0  1989-06-17     187   32777  right        H. Tekin                  4687  \n",
       "1  1999-01-23     182  393228   left         M. Sarr                  4423  \n",
       "2  1998-10-26     176  393230            O. Mandanda                  null  \n",
       "3  1990-03-06     187   32793  right      A. N'Diaye                 19314  \n",
       "4  1999-05-25     192  393247  right  I. Konat\\u00e9                  null  "
      ]
     },
     "execution_count": 7,
     "metadata": {},
     "output_type": "execute_result"
    }
   ],
   "source": [
    "players_df.head()"
   ]
  },
  {
   "cell_type": "markdown",
   "id": "be8fd0c2-4e48-4e93-8775-d1281b2c39c4",
   "metadata": {},
   "source": [
    "## Teams DF"
   ]
  },
  {
   "cell_type": "code",
   "execution_count": 41,
   "id": "75fa4001-2bcd-4dee-b97c-c2154f4ade17",
   "metadata": {},
   "outputs": [],
   "source": [
    "teams_df = pd.DataFrame(teams)\n",
    "teams_df = teams_df.drop('area', axis=1)\n",
    "teams_df.head()\n",
    "teams_df.to_csv('dataframes/teams.csv', index=False)"
   ]
  },
  {
   "cell_type": "markdown",
   "id": "0d7fda3b-ae96-4fe0-8076-2ce0c365382e",
   "metadata": {},
   "source": [
    "## Events DF"
   ]
  },
  {
   "cell_type": "code",
   "execution_count": 30,
   "id": "5e1e0d24-0c17-4fdf-a8e3-b70117074c87",
   "metadata": {},
   "outputs": [],
   "source": [
    "events_df = pd.DataFrame(events_England)\n",
    "events_df = events_df.drop(['positions', 'tags'], axis=1)\n",
    "events_df.head()\n",
    "events_df.to_csv('dataframes/events.csv', index=False)"
   ]
  },
  {
   "cell_type": "markdown",
   "id": "d3edd7e8-dc42-44f1-9882-16034c84fb6f",
   "metadata": {},
   "source": [
    "## Positions DF"
   ]
  },
  {
   "cell_type": "code",
   "execution_count": 33,
   "id": "cecba4a6-1b3b-49b7-ac05-1c11fb7b1be8",
   "metadata": {},
   "outputs": [],
   "source": [
    "positions_data = []\n",
    "\n",
    "for event in events_England:\n",
    "    ID = event[\"id\"]\n",
    "    initialX = event[\"positions\"][0][\"x\"]\n",
    "    initialY = event[\"positions\"][0][\"y\"]\n",
    "    \n",
    "    try:\n",
    "        finalX = event[\"positions\"][1][\"x\"]\n",
    "    except IndexError:\n",
    "        finalX = None\n",
    "        \n",
    "    try:\n",
    "        finalY = event[\"positions\"][1][\"y\"]\n",
    "    except IndexError:\n",
    "        finalY = None\n",
    "    positions_data.append({\"id\": ID, \"initialX\": initialX, \"initialY\": initialY, \"finalX\": finalX, \"finalY\": finalY})\n",
    "\n",
    "positions_df = pd.DataFrame(positions_data)\n",
    "positions_df.head()\n",
    "positions_df.to_csv(\"dataframes/positions.csv\", index=False)"
   ]
  },
  {
   "cell_type": "markdown",
   "id": "06fb783d-b07a-4a69-9e92-a61d0476be2b",
   "metadata": {},
   "source": [
    "## EventTags DF"
   ]
  },
  {
   "cell_type": "code",
   "execution_count": 84,
   "id": "29bc5bb3-88bb-4c8c-9b77-becce539fcf8",
   "metadata": {},
   "outputs": [],
   "source": [
    "unique_tags = []\n",
    "events_df = pd.DataFrame(events_England)\n",
    "\n",
    "event_tags = []\n",
    "\n",
    "for index, event in events_df.iterrows():\n",
    "    for tag in event[\"tags\"]:\n",
    "        event_tags.append({\n",
    "            'event_id': event['id'],\n",
    "            'tag': tag['id']\n",
    "        })\n",
    "event_tags_df = pd.DataFrame(event_tags)\n"
   ]
  },
  {
   "cell_type": "code",
   "execution_count": 85,
   "id": "9074629f-7a8b-4da1-b5fd-f00f51837007",
   "metadata": {},
   "outputs": [],
   "source": [
    "event_tags_df.to_csv(\"dataframes/event_tags.csv\", index=False)"
   ]
  },
  {
   "cell_type": "code",
   "execution_count": null,
   "id": "14129185-dbc7-4da5-abbe-fdb636b1cf44",
   "metadata": {},
   "outputs": [],
   "source": []
  }
 ],
 "metadata": {
  "kernelspec": {
   "display_name": "Python 3 (ipykernel)",
   "language": "python",
   "name": "python3"
  },
  "language_info": {
   "codemirror_mode": {
    "name": "ipython",
    "version": 3
   },
   "file_extension": ".py",
   "mimetype": "text/x-python",
   "name": "python",
   "nbconvert_exporter": "python",
   "pygments_lexer": "ipython3",
   "version": "3.13.5"
  }
 },
 "nbformat": 4,
 "nbformat_minor": 5
}
